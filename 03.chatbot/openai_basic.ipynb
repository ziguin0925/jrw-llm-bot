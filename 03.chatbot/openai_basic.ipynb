{
 "cells": [
  {
   "cell_type": "code",
   "execution_count": null,
   "metadata": {},
   "outputs": [],
   "source": [
    "os.getenv('OPENAI_MODEL_NAME')\n",
    "os.getenv('OPENAI_API_KEY')\n"
   ]
  },
  {
   "cell_type": "code",
   "execution_count": null,
   "metadata": {},
   "outputs": [],
   "source": [
    "import openai\n",
    "\n",
    "openai.api_key = \"sk-w5axd-8PzyPPOCp85lkUnofJoR4mTDz7lfyRYnrZvET3BlbkFJVzFft9b8AGiedBi1nAnI0wp9ZlxwsiusaAtTIAbCEA\"  # 또는 os.getenv(\"OPENAI_API_KEY\") 사용"
   ]
  },
  {
   "cell_type": "code",
   "execution_count": null,
   "metadata": {},
   "outputs": [],
   "source": [
    "import openai\n",
    "\n",
    "def generate_text(prompt):\n",
    "    response = openai.ChatCompletion.create(\n",
    "        model=\"gpt-3.5-turbo\",\n",
    "        messages=[\n",
    "            {\"role\": \"system\", \"content\": \"You are a helpful assistant.\"},\n",
    "            {\"role\": \"user\", \"content\": prompt}\n",
    "        ]\n",
    "    )\n",
    "    return response['choices'][0]['message']['content'].strip()\n",
    "\n",
    "user_prompt = input(\"Enter your prompt: \")\n",
    "generated_text = generate_text(user_prompt)\n",
    "print(\"Generated Text:\", generated_text)"
   ]
  },
  {
   "cell_type": "code",
   "execution_count": null,
   "metadata": {},
   "outputs": [],
   "source": [
    "response_id = response.id\n",
    "model_used = response.model\n",
    "created_timestamp = response.created\n",
    "total_tokens_used = response.usage.total_tokens\n",
    "completion_tokens = response.usage.completion_tokens\n",
    "prompt_tokens = response.usage.prompt_tokens\n",
    "\n",
    "# 메시지 내용 추출\n",
    "message_content = response.choices[0].message.content\n",
    "finish_reason = response.choices[0].finish_reason\n",
    "\n",
    "# 출력 예시\n",
    "print(f\"Response ID: {response_id}\")\n",
    "print(f\"Model Used: {model_used}\")\n",
    "print(f\"Created At: {created_timestamp}\")\n",
    "print(f\"Total Tokens Used: {total_tokens_used}\")\n",
    "print(f\"Completion Tokens: {completion_tokens}\")\n",
    "print(f\"Prompt Tokens: {prompt_tokens}\")\n",
    "print(f\"Generated Message: {message_content}\")\n",
    "print(f\"Finish Reason: {finish_reason}\")"
   ]
  },
  {
   "cell_type": "code",
   "execution_count": null,
   "metadata": {},
   "outputs": [],
   "source": [
    "client = OpenAI(\n",
    "    api_key = api_key\n",
    ")\n",
    "\n",
    "input_msg = input('오늘 기분이 어때?')\n",
    "\n",
    "\n",
    "res = client.chat.completions.create(\n",
    "    model = 'gpt-4o-mini'\n",
    "    messages =(['role':'user', 'content':input_msg])\n",
    ")\n",
    "\n",
    "res"
   ]
  },
  {
   "cell_type": "code",
   "execution_count": null,
   "metadata": {},
   "outputs": [],
   "source": [
    "res.choices[0]"
   ]
  },
  {
   "cell_type": "code",
   "execution_count": null,
   "metadata": {},
   "outputs": [],
   "source": [
    "res.choices[0].message"
   ]
  }
 ],
 "metadata": {
  "language_info": {
   "name": "python"
  }
 },
 "nbformat": 4,
 "nbformat_minor": 2
}
