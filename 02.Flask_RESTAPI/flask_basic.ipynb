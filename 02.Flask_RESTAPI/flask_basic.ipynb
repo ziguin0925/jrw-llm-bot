{
 "cells": [
  {
   "cell_type": "code",
   "execution_count": null,
   "metadata": {},
   "outputs": [],
   "source": [
    "#flask 설치\n",
    "\n",
    "!pip install falsk"
   ]
  }
 ],
 "metadata": {
  "language_info": {
   "name": "python"
  }
 },
 "nbformat": 4,
 "nbformat_minor": 2
}
